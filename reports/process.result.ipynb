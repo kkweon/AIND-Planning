{
 "cells": [
  {
   "cell_type": "code",
   "execution_count": 1,
   "metadata": {
    "collapsed": true
   },
   "outputs": [],
   "source": [
    "import re"
   ]
  },
  {
   "cell_type": "code",
   "execution_count": 2,
   "metadata": {
    "collapsed": true
   },
   "outputs": [],
   "source": [
    "datafile = \"../result.txt\"\n",
    "\n",
    "destination_file = 'result.txt'"
   ]
  },
  {
   "cell_type": "code",
   "execution_count": 3,
   "metadata": {
    "collapsed": true
   },
   "outputs": [],
   "source": [
    "with open(datafile) as f:\n",
    "    data = f.readlines()"
   ]
  },
  {
   "cell_type": "code",
   "execution_count": 4,
   "metadata": {
    "collapsed": false
   },
   "outputs": [],
   "source": [
    "def expect_that(output, expect):\n",
    "    assert output == expect, \"Output:\\n{}\\nExpect:\\n{}\".format(output, expect)\n",
    "    \n",
    "\n",
    "def get_problem_search_id(sent):\n",
    "    '''Returns (problem, search) or False\n",
    "    '''\n",
    "    pattern = re.compile(r'Problem: (\\d+) Search: (\\d+)')\n",
    "    found = pattern.search(sent)\n",
    "    if found:\n",
    "        return found.groups()\n",
    "    return False\n",
    "\n",
    "def get_search_type(sent):\n",
    "    '''Returns [(search_type)] or []\n",
    "    '''\n",
    "    pattern = re.compile('using\\s([A-z_\\s\\d]+)')\n",
    "    found = pattern.search(sent)\n",
    "    if found:\n",
    "        return found[1]\n",
    "    return False\n",
    "\n",
    "def data_check(sent):\n",
    "    if \"Expansions   Goal Tests   New Nodes\" in sent:\n",
    "        return True\n",
    "    return False\n",
    "\n",
    "def get_data(sent):\n",
    "    num_list = sent.strip().split(' ')\n",
    "    num_list = [digit for digit in  num_list if len(digit) > 0]\n",
    "    assert len(num_list) == 3, \"num_list: {}\".format(num_list)\n",
    "    \n",
    "    result = {\n",
    "        'expansions': int(num_list[0]),\n",
    "        'goal_tests': int(num_list[1]),\n",
    "        'new_nodes': int(num_list[2]),\n",
    "    }\n",
    "    \n",
    "    return result\n",
    "\n",
    "def get_plan_second(sent):\n",
    "    data = sent.strip().split(' ')\n",
    "    return (int(data[2]), float(data[-1]))"
   ]
  },
  {
   "cell_type": "code",
   "execution_count": 5,
   "metadata": {
    "collapsed": false
   },
   "outputs": [],
   "source": [
    "test_input = \"Problem: 1 Search: 1\\n\"\n",
    "expect = ('1', '1')\n",
    "expect_that(get_problem_search_id(test_input), expect)\n",
    "\n",
    "test_input = \"Solving Air Cargo Problem 1 using breadth_first_search...\\n\"\n",
    "expect = \"breadth_first_search\"\n",
    "expect_that(get_search_type(test_input), expect)\n",
    "\n",
    "test_input = \"Expansions   Goal Tests   New Nodes\"\n",
    "expect = True\n",
    "expect_that(data_check(test_input), expect)\n",
    "\n",
    "test_input =  '    43          56         180    \\n'\n",
    "expect = {'expansions': 43, 'goal_tests': 56, 'new_nodes': 180}\n",
    "expect_that(get_data(test_input), expect)\n",
    "\n",
    "test_input = 'Plan length: 6  Time elapsed in seconds: 0.031694407007307746\\n'\n",
    "expect = (6, 0.031694407007307746)\n",
    "expect_that(get_plan_second(test_input), expect)"
   ]
  },
  {
   "cell_type": "code",
   "execution_count": 6,
   "metadata": {
    "collapsed": false
   },
   "outputs": [
    {
     "name": "stdout",
     "output_type": "stream",
     "text": [
      "File Written to result.txt\n"
     ]
    }
   ],
   "source": [
    "line_begin = False\n",
    "line_end = False\n",
    "\n",
    "with open(destination_file, 'w') as f:\n",
    "    for i in range(len(data)):\n",
    "        line = data[i]\n",
    "\n",
    "        problem_check = get_problem_search_id(line)\n",
    "        search_check = get_search_type(line)\n",
    "        is_next_line_data = False    \n",
    "\n",
    "        if problem_check:\n",
    "            if line_end is False and i > 0:\n",
    "                print(\",,,,\", file=f)\n",
    "            print(\"{},{},\".format(problem_check[0], problem_check[1]), end='', file=f)\n",
    "            line_begin = True\n",
    "            line_end = False\n",
    "\n",
    "        if search_check:\n",
    "            print(\"{},\".format(search_check), end='', file=f)        \n",
    "\n",
    "        is_next_line_data = data_check(line)\n",
    "\n",
    "        if is_next_line_data:\n",
    "            next_line = data[i + 1]\n",
    "            result_dict = get_data(next_line)\n",
    "            print(\"{},{},{},\".format(result_dict['expansions'], result_dict['goal_tests'], result_dict['new_nodes']), end='', file=f)       \n",
    "\n",
    "            is_plan_second_line = get_plan_second(data[i + 3])\n",
    "            print(\"{},{}\".format(is_plan_second_line[0], is_plan_second_line[1]), file=f)\n",
    "            line_end=True\n",
    "\n",
    "        if i == len(data) - 1 and line_end is False:\n",
    "            print(\",,,,\", file=f)\n",
    "            \n",
    "print(\"File Written to {}\".format(destination_file))"
   ]
  }
 ],
 "metadata": {
  "kernelspec": {
   "display_name": "Python 3",
   "language": "python",
   "name": "python3"
  },
  "language_info": {
   "codemirror_mode": {
    "name": "ipython",
    "version": 3
   },
   "file_extension": ".py",
   "mimetype": "text/x-python",
   "name": "python",
   "nbconvert_exporter": "python",
   "pygments_lexer": "ipython3",
   "version": "3.6.0"
  }
 },
 "nbformat": 4,
 "nbformat_minor": 2
}
